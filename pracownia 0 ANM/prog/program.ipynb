{
 "cells": [
  {
   "cell_type": "code",
   "execution_count": 33,
   "id": "61a9b19b",
   "metadata": {},
   "outputs": [],
   "source": [
    "using Plots\n",
    "plot([sin,cos], label = [\"sinx\" \"cosx\"], 0:0.1:3*π)\n",
    "savefig(\"wyk.png\")"
   ]
  }
 ],
 "metadata": {
  "kernelspec": {
   "display_name": "Julia 1.6.3",
   "language": "julia",
   "name": "julia-1.6"
  },
  "language_info": {
   "file_extension": ".jl",
   "mimetype": "application/julia",
   "name": "julia",
   "version": "1.6.3"
  }
 },
 "nbformat": 4,
 "nbformat_minor": 5
}
