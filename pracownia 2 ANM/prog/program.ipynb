{
 "cells": [
  {
   "cell_type": "code",
   "execution_count": 127,
   "id": "4dae77e2",
   "metadata": {},
   "outputs": [],
   "source": [
    "# autor: Kamil Tasarz"
   ]
  },
  {
   "cell_type": "code",
   "execution_count": 128,
   "id": "42041942",
   "metadata": {},
   "outputs": [],
   "source": [
    "using Printf"
   ]
  },
  {
   "cell_type": "code",
   "execution_count": 129,
   "id": "729ceaad",
   "metadata": {},
   "outputs": [
    {
     "data": {
      "text/plain": [
       "31-element Vector{Float64}:\n",
       "      4.0\n",
       "     16.0\n",
       "     64.0\n",
       "    256.0\n",
       "   1024.0\n",
       "   4096.0\n",
       "  16384.0\n",
       "  65536.0\n",
       " 262144.0\n",
       "      1.048576e6\n",
       "      4.194304e6\n",
       "      1.6777216e7\n",
       "      6.7108864e7\n",
       "      ⋮\n",
       "      1.099511627776e12\n",
       "      4.398046511104e12\n",
       "      1.7592186044416e13\n",
       "      7.0368744177664e13\n",
       "      2.81474976710656e14\n",
       "      1.125899906842624e15\n",
       "      4.503599627370496e15\n",
       "      1.8014398509481984e16\n",
       "      7.205759403792794e16\n",
       "      2.8823037615171174e17\n",
       "      1.152921504606847e18\n",
       "      4.611686018427388e18"
      ]
     },
     "execution_count": 129,
     "metadata": {},
     "output_type": "execute_result"
    }
   ],
   "source": [
    "#przygotowanie\n",
    "\n",
    "two_to = (2.0 .^ (1:62)) #tablica kolejnych potęg dwójki\n",
    "four_to = (4.0 .^ (1:31)) #tablica kolejnych potęg czwórki"
   ]
  },
  {
   "cell_type": "code",
   "execution_count": 130,
   "id": "5806e412",
   "metadata": {},
   "outputs": [
    {
     "data": {
      "text/plain": [
       "summa (generic function with 2 methods)"
      ]
     },
     "execution_count": 130,
     "metadata": {},
     "output_type": "execute_result"
    }
   ],
   "source": [
    "function trapez(f, a, b, n, h)\n",
    "    res = 0.0\n",
    "    for i in 0:n\n",
    "        if i==0 || i==n\n",
    "            res += f(a + i*h) / 2.0\n",
    "        else\n",
    "            res += f(a + i*h)\n",
    "        end\n",
    "    end\n",
    "    return res*h\n",
    "end\n",
    "\n",
    "function summa(to, f, a, h) # aktulanie nieużywana, można użyć zamiast trapez\n",
    "    s = 0.0\n",
    "    for i in 1:to\n",
    "        s = s + f(a + (2.0 * i - 1.0) * h)\n",
    "    end\n",
    "    return s\n",
    "end"
   ]
  },
  {
   "cell_type": "code",
   "execution_count": 150,
   "id": "3143bd11",
   "metadata": {},
   "outputs": [
    {
     "data": {
      "text/plain": [
       "Romberg_KT (generic function with 3 methods)"
      ]
     },
     "execution_count": 150,
     "metadata": {},
     "output_type": "execute_result"
    }
   ],
   "source": [
    "# R_(n, m), gdzie n - wiersz, m - kolumna\n",
    "# przy czym Julia numeruje tablice od 1 a nie od zera, więc wyraz R_(i, j) jest w miejscu M[i+1][j+1]\n",
    "\n",
    "function Romberg_KT(a, b, f, ϵ, drukowac=false, exact=0.0)\n",
    "    # początek i koniec przedzialu całki, funkcja, oczekiwany błąd, czy wypisać tablicę błędów oraz\n",
    "    # dokładna wartość całki (potrzebna do wypisania tablicy błędów; jeśli nie podamy otrzymamy po prostu tablicę Romberga)\n",
    "    # zwracana wynik to liczba wierszy i najlepsze uzyskane przybliżenie całki\n",
    "    M = [] #tablica Romberga\n",
    "    h = (b - a)\n",
    "    R00 = h * (f(b)-f(a)) / 2.0\n",
    "    push!(M, R00)\n",
    "    i = 1 #numer wiersza\n",
    "    h = (b - a)\n",
    "    \n",
    "    while true\n",
    "        w = [] #aktualny wiersz\n",
    "        h = h / 2.0\n",
    "        # R = M[i][1]/2.0 + h*summa(1, two_to[i]/2, f, a, h) #nieco szybsze\n",
    "        R = trapez(f, a, b, two_to[i], h)\n",
    "        push!(w, R)\n",
    "        \n",
    "        for j in 1:1:i\n",
    "           # R = w[j] + (w[j] - M[i][j])/(four_to[j] - 1.0)\n",
    "           R = (four_to[j] * w[j] - M[i][j]) / (four_to[j] - 1.0) # drugi równoważny sposób\n",
    "            push!(w, R)\n",
    "        end\n",
    "        push!(M, w)\n",
    "        \n",
    "        if(abs(M[i+1][1] - M[i][1]) < ϵ*abs(M[i+1][1])) #warunek z treści zadania: |R_(K, 0) - R_(K-1, 0)| < ϵ*|R_(K, 0)|\n",
    "            break\n",
    "        end\n",
    "        \n",
    "        i+=1\n",
    "    end\n",
    "            \n",
    "    if drukowac\n",
    "        #drukuj_ostatnie_wyrazy_tablicy(M)\n",
    "        drukuj_tablice_bledow(M, exact)\n",
    "    end\n",
    "    \n",
    "    return i, M[i+1][i+1]\n",
    "end\n",
    "\n",
    "     "
   ]
  },
  {
   "cell_type": "code",
   "execution_count": 132,
   "id": "81b762da",
   "metadata": {},
   "outputs": [
    {
     "data": {
      "text/plain": [
       "drukuj_ostatnie_wyrazy_tablicy (generic function with 1 method)"
      ]
     },
     "execution_count": 132,
     "metadata": {},
     "output_type": "execute_result"
    }
   ],
   "source": [
    "function drukuj_tablice_bledow(M, exact)\n",
    "    if exact == 0.0 # drukowanie po prostu tablicy Romberga\n",
    "        for i in 1:1:length(M)\n",
    "            @printf(\"%d: \", i-1)\n",
    "            for j in 1:1:i\n",
    "                @printf(\"%.5f \", M[i][j])\n",
    "            end\n",
    "            @printf(\"\\n\")\n",
    "        end\n",
    "    else #drukowanie błędów\n",
    "        for i in 1:1:length(M)\n",
    "            @printf(\"%d: \", i-1)\n",
    "            for j in 1:1:i\n",
    "                @printf(\"%.3e \", abs(exact - M[i][j]) / abs(exact))\n",
    "            end\n",
    "            @printf(\"\\n\")\n",
    "        end\n",
    "    end  \n",
    "end\n",
    "\n",
    "function drukuj_ostatnie_wyrazy_tablicy(M) # zamiast wypisywać całe wiersze można wypisać najlepsze przybliżenie z każdego\n",
    "    for i in 1:1:length(M)\n",
    "            @printf(\"%d: %f \\n\", i-1, M[i][i])\n",
    "        end\n",
    "end"
   ]
  },
  {
   "cell_type": "code",
   "execution_count": 134,
   "id": "19eac410",
   "metadata": {},
   "outputs": [
    {
     "name": "stdout",
     "output_type": "stream",
     "text": [
      "epsilon i wynik funckji Romberg\n",
      "1.0e-01  (4, -0.4599916173876962)\n",
      "1.0e-02  (6, -0.4599999999979983)\n",
      "1.0e-03  (7, -0.4600000000000031)\n",
      "1.0e-04  (9, -0.46000000000000396)\n",
      "1.0e-05  (10, -0.45999999999995933)\n",
      "1.0e-06  (12, -0.46000000000004754)\n",
      "1.0e-07  (14, -0.4599999999997553)\n",
      "1.0e-08  (15, -0.459999999999876)\n"
     ]
    }
   ],
   "source": [
    "#test1 - wielomian\n",
    "a = -1.0\n",
    "b = 1.0\n",
    "f(x) = 2.0 * x^3 - 6.0/5.0 * x^2 + 0.17\n",
    "exact = -0.46\n",
    "\n",
    "print(\"epsilon i wynik funckji Romberg\", \"\\n\")\n",
    "for ϵ in [1e-1, 1e-2, 1e-3, 1e-4, 1e-5, 1e-6, 1e-7, 1e-8]\n",
    "    @printf(\"%.1e  \", ϵ)\n",
    "    print(Romberg_KT(a, b, f, ϵ, false, exact), \"\\n\")\n",
    "end"
   ]
  },
  {
   "cell_type": "code",
   "execution_count": 144,
   "id": "71f60e7a",
   "metadata": {},
   "outputs": [
    {
     "name": "stdout",
     "output_type": "stream",
     "text": [
      "epsilon i wynik funckji Romberg\n",
      "1.0e-01  (1, 2.6073067173244575)\n",
      "1.0e-02  (4, 2.3504013695769763)\n",
      "1.0e-03  (5, 2.350402388282478)\n",
      "1.0e-04  (7, 2.3504023872876028)\n",
      "1.0e-05  (9, 2.350402387287601)\n",
      "1.0e-06  (10, 2.3504023872876045)\n",
      "1.0e-07  (12, 2.3504023872876045)\n",
      "1.0e-08  (14, 2.3504023872876063)\n"
     ]
    }
   ],
   "source": [
    "#test2 - funkcja wykładnicza\n",
    "a = -1.0\n",
    "b = 1.0\n",
    "f(x) = ℯ^x\n",
    "exact = 2.350402387287602913\n",
    "\n",
    "print(\"epsilon i wynik funckji Romberg\", \"\\n\")\n",
    "for ϵ in [1e-1, 1e-2, 1e-3, 1e-4, 1e-5, 1e-6, 1e-7, 1e-8]\n",
    "    @printf(\"%.1e  \", ϵ)\n",
    "    print(Romberg_KT(a, b, f, ϵ, false, exact), \"\\n\")\n",
    "end"
   ]
  },
  {
   "cell_type": "code",
   "execution_count": 136,
   "id": "08dcda9c",
   "metadata": {},
   "outputs": [
    {
     "name": "stdout",
     "output_type": "stream",
     "text": [
      "epsilon i wynik funckji Romberg\n",
      "1.0e-01  (4, 0.5487063518598903)\n",
      "1.0e-02  (5, 0.5495459860498154)\n",
      "1.0e-03  (5, 0.5495459860498154)\n",
      "1.0e-04  (6, 0.549358036735076)\n",
      "1.0e-05  (8, 0.5493603068692027)\n",
      "1.0e-06  (10, 0.5493603067780057)\n",
      "1.0e-07  (11, 0.5493603067780068)\n",
      "1.0e-08  (13, 0.5493603067780053)\n"
     ]
    }
   ],
   "source": [
    "#test3 - funkcja Rungego\n",
    "a = -1.0\n",
    "b = 1.0\n",
    "f(x) = 1.0 / (1.0 + 25.0 * x^2)\n",
    "exact = 0.549360306778006344344508770577\n",
    "\n",
    "print(\"epsilon i wynik funckji Romberg\", \"\\n\")\n",
    "for ϵ in [1e-1, 1e-2, 1e-3, 1e-4, 1e-5, 1e-6, 1e-7, 1e-8]\n",
    "    @printf(\"%.1e  \", ϵ)\n",
    "    print(Romberg_KT(a, b, f, ϵ, false, exact), \"\\n\")\n",
    "end"
   ]
  },
  {
   "cell_type": "code",
   "execution_count": 137,
   "id": "dc18fd82",
   "metadata": {},
   "outputs": [
    {
     "name": "stdout",
     "output_type": "stream",
     "text": [
      "epsilon i wynik funckji Romberg\n",
      "1.0e-01  (2, 1.5612171004990063)\n",
      "1.0e-02  (4, 1.5822386398082946)\n",
      "1.0e-03  (5, 1.5822329223318037)\n",
      "1.0e-04  (7, 1.5822329637296086)\n",
      "1.0e-05  (9, 1.5822329637296728)\n",
      "1.0e-06  (10, 1.5822329637296693)\n",
      "1.0e-07  (12, 1.582232963729682)\n",
      "1.0e-08  (14, 1.5822329637296866)\n"
     ]
    }
   ],
   "source": [
    "#test4 - z treści zadania\n",
    "a = -1.0\n",
    "b = 1.0\n",
    "f(x) = 1.0 / (x^4 + x^2 + 0.9)\n",
    "exact = 1.58223\n",
    "\n",
    "print(\"epsilon i wynik funckji Romberg\", \"\\n\")\n",
    "for ϵ in [1e-1, 1e-2, 1e-3, 1e-4, 1e-5, 1e-6, 1e-7, 1e-8]\n",
    "    @printf(\"%.1e  \", ϵ)\n",
    "    print(Romberg_KT(a, b, f, ϵ, false, exact), \"\\n\")\n",
    "end"
   ]
  },
  {
   "cell_type": "code",
   "execution_count": 138,
   "id": "d2324178",
   "metadata": {},
   "outputs": [
    {
     "name": "stdout",
     "output_type": "stream",
     "text": [
      "epsilon i wynik funckji Romberg\n",
      "1.0e-01  (2, 0.8442023263292009)\n",
      "1.0e-02  (3, 0.8673336322080251)\n",
      "1.0e-03  (5, 0.8669729885775816)\n",
      "1.0e-04  (6, 0.8669729873397677)\n",
      "1.0e-05  (8, 0.8669729873399116)\n",
      "1.0e-06  (10, 0.8669729873399111)\n",
      "1.0e-07  (11, 0.8669729873399112)\n",
      "1.0e-08  (13, 0.866972987339908)\n"
     ]
    }
   ],
   "source": [
    "#test5 - z treści zadania\n",
    "a = 0.0\n",
    "b = 1.0\n",
    "f(x) = 1.0 / (1.0 + x^4)\n",
    "exact = 0.866972987339911037573995163882870713652175367\n",
    "\n",
    "print(\"epsilon i wynik funckji Romberg\", \"\\n\")\n",
    "for ϵ in [1e-1, 1e-2, 1e-3, 1e-4, 1e-5, 1e-6, 1e-7, 1e-8]\n",
    "    @printf(\"%.1e  \", ϵ)\n",
    "    print(Romberg_KT(a, b, f, ϵ, false, exact), \"\\n\")\n",
    "end"
   ]
  },
  {
   "cell_type": "code",
   "execution_count": 145,
   "id": "41d18333",
   "metadata": {},
   "outputs": [
    {
     "name": "stdout",
     "output_type": "stream",
     "text": [
      "epsilon i wynik funckji Romberg\n",
      "1.0e-01  (3, 1.1449399512891578)\n",
      "1.0e-02  (4, 1.15512033569102)\n",
      "1.0e-03  (4, 1.15512033569102)\n",
      "1.0e-04  (4, 1.15512033569102)\n",
      "1.0e-05  (5, 1.1546962210990694)\n",
      "1.0e-06  (5, 1.1546962210990694)\n",
      "1.0e-07  (5, 1.1546962210990694)\n",
      "1.0e-08  (5, 1.1546962210990694)\n"
     ]
    }
   ],
   "source": [
    "#test6 - z treści zadania\n",
    "a = 0.0\n",
    "b = 1.0\n",
    "f(x) = 2.0 / (2.0 + sin(10*pi*x))\n",
    "ϵ = 1e-8\n",
    "exact = 1.1547005383792515290182975610039149 # 2/sqrt(3)\n",
    "\n",
    "print(\"epsilon i wynik funckji Romberg\", \"\\n\")\n",
    "for ϵ in [1e-1, 1e-2, 1e-3, 1e-4, 1e-5, 1e-6, 1e-7, 1e-8]\n",
    "    @printf(\"%.1e  \", ϵ)\n",
    "    print(Romberg_KT(a, b, f, ϵ, false, exact), \"\\n\")\n",
    "end"
   ]
  },
  {
   "cell_type": "code",
   "execution_count": 143,
   "id": "1a02b667",
   "metadata": {},
   "outputs": [
    {
     "name": "stdout",
     "output_type": "stream",
     "text": [
      "0: 1.562e+00 \n",
      "1: 2.029e-01 2.503e-01 \n",
      "2: 9.365e-02 5.722e-02 7.772e-02 \n",
      "3: 4.309e-02 2.624e-02 2.417e-02 2.332e-02 \n",
      "4: 1.980e-02 1.203e-02 1.108e-02 1.088e-02 1.083e-02 \n",
      "5: 9.086e-03 5.516e-03 5.082e-03 4.986e-03 4.963e-03 4.958e-03 \n",
      "6: 4.168e-03 2.529e-03 2.330e-03 2.286e-03 2.276e-03 2.273e-03 2.272e-03 \n",
      "7: 1.912e-03 1.160e-03 1.068e-03 1.048e-03 1.043e-03 1.042e-03 1.042e-03 1.042e-03 \n",
      "8: 8.767e-04 5.317e-04 4.898e-04 4.806e-04 4.784e-04 4.778e-04 4.777e-04 4.777e-04 4.777e-04 \n",
      "9: 4.020e-04 2.438e-04 2.246e-04 2.204e-04 2.193e-04 2.191e-04 2.190e-04 2.190e-04 2.190e-04 2.190e-04 \n",
      "10: 1.843e-04 1.118e-04 1.030e-04 1.010e-04 1.006e-04 1.005e-04 1.004e-04 1.004e-04 1.004e-04 1.004e-04 1.004e-04 \n",
      "11: 8.452e-05 5.125e-05 4.721e-05 4.633e-05 4.611e-05 4.606e-05 4.605e-05 4.604e-05 4.604e-05 4.604e-05 4.604e-05 4.604e-05 \n",
      "12: 3.875e-05 2.350e-05 2.165e-05 2.124e-05 2.114e-05 2.112e-05 2.111e-05 2.111e-05 2.111e-05 2.111e-05 2.111e-05 2.111e-05 2.111e-05 \n",
      "13: 1.777e-05 1.077e-05 9.925e-06 9.739e-06 9.694e-06 9.683e-06 9.680e-06 9.679e-06 9.679e-06 9.679e-06 9.679e-06 9.679e-06 9.679e-06 9.679e-06 \n",
      "14: 8.147e-06 4.940e-06 4.551e-06 4.465e-06 4.445e-06 4.440e-06 4.438e-06 4.438e-06 4.438e-06 4.438e-06 4.438e-06 4.438e-06 4.438e-06 4.438e-06 4.438e-06 \n",
      "15: 3.735e-06 2.265e-06 2.086e-06 2.047e-06 2.038e-06 2.036e-06 2.035e-06 2.035e-06 2.035e-06 2.035e-06 2.035e-06 2.035e-06 2.035e-06 2.035e-06 2.035e-06 2.035e-06 \n",
      "16: 1.713e-06 1.038e-06 9.567e-07 9.387e-07 9.344e-07 9.333e-07 9.330e-07 9.330e-07 9.329e-07 9.329e-07 9.329e-07 9.329e-07 9.329e-07 9.329e-07 9.329e-07 9.329e-07 9.329e-07 \n",
      "17: 7.852e-07 4.761e-07 4.386e-07 4.304e-07 4.284e-07 4.279e-07 4.278e-07 4.278e-07 4.278e-07 4.278e-07 4.278e-07 4.278e-07 4.278e-07 4.278e-07 4.278e-07 4.278e-07 4.278e-07 4.278e-07 \n"
     ]
    },
    {
     "data": {
      "text/plain": [
       "(17, 1.938679584353254)"
      ]
     },
     "execution_count": 143,
     "metadata": {},
     "output_type": "execute_result"
    }
   ],
   "source": [
    "#test drukowania tablicy błędów\n",
    "a = -1.0\n",
    "b = 1.0\n",
    "ϵ = 1e-6\n",
    "f(x) = sqrt(sqrt(sqrt(1.0 - x))) # (1-x)^(1/8)\n",
    "exact = 1.9386804136271247274791300546857030\n",
    "\n",
    "Romberg_KT(a, b, f, ϵ, true, exact)"
   ]
  }
 ],
 "metadata": {
  "kernelspec": {
   "display_name": "Julia 1.6.3",
   "language": "julia",
   "name": "julia-1.6"
  },
  "language_info": {
   "file_extension": ".jl",
   "mimetype": "application/julia",
   "name": "julia",
   "version": "1.6.3"
  }
 },
 "nbformat": 4,
 "nbformat_minor": 5
}
